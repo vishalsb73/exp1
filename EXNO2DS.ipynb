{
  "nbformat": 4,
  "nbformat_minor": 0,
  "metadata": {
    "colab": {
      "provenance": []
    },
    "kernelspec": {
      "name": "python3",
      "display_name": "Python 3"
    },
    "language_info": {
      "name": "python"
    }
  },
  "cells": [
    {
      "cell_type": "code",
      "execution_count": null,
      "metadata": {
        "id": "eOTXkAVI1eZ4"
      },
      "outputs": [],
      "source": [
        "import pandas as pd\n",
        "import numpy as np\n",
        "import matplotlib.pyplot as plt\n",
        "import seaborn as sns"
      ]
    },
    {
      "cell_type": "code",
      "source": [
        "dt=pd.read_csv(\"#COPY CSV FILE PATH\")"
      ],
      "metadata": {
        "id": "JCbDXw2C1j3M"
      },
      "execution_count": null,
      "outputs": []
    },
    {
      "cell_type": "code",
      "source": [
        "dt"
      ],
      "metadata": {
        "id": "yQfFCGzq1zXC"
      },
      "execution_count": null,
      "outputs": []
    },
    {
      "cell_type": "code",
      "source": [
        "dt.info()"
      ],
      "metadata": {
        "id": "4NYxJPlY12OG"
      },
      "execution_count": null,
      "outputs": []
    },
    {
      "cell_type": "code",
      "source": [
        "#DISPLAY NO OF ROWS AND COLUMNS"
      ],
      "metadata": {
        "id": "cR3Z2fsc2F2j"
      },
      "execution_count": null,
      "outputs": []
    },
    {
      "cell_type": "code",
      "source": [
        "#SET PASSENGER ID AS INDEX COLUMN"
      ],
      "metadata": {
        "id": "vEZk7ygG2LH3"
      },
      "execution_count": null,
      "outputs": []
    },
    {
      "cell_type": "code",
      "source": [
        "dt.describe()"
      ],
      "metadata": {
        "id": "yvI3HDW_2WcH"
      },
      "execution_count": null,
      "outputs": []
    },
    {
      "cell_type": "markdown",
      "source": [
        "**CATEGORICAL DATA ANALYSIS**"
      ],
      "metadata": {
        "id": "QlcHbH-D2orE"
      }
    },
    {
      "cell_type": "code",
      "source": [
        "# USE VALUE COUNT FUNCTION AND PERFROM CATEGORICAL ANALYSIS"
      ],
      "metadata": {
        "id": "LETfTcJz2l3K"
      },
      "execution_count": null,
      "outputs": []
    },
    {
      "cell_type": "markdown",
      "source": [
        "**UNIVARIATE ANALYSIS**"
      ],
      "metadata": {
        "id": "TK1JQd7g4A3c"
      }
    },
    {
      "cell_type": "code",
      "source": [
        "# USE COUNTPLOT AND PERFORM UNIVARIATE ANALYSIS FOR THE \"SURVIVED\" COLUMN IN TITANIC DATASET"
      ],
      "metadata": {
        "id": "YXqbo4Uc4E5g"
      },
      "execution_count": null,
      "outputs": []
    },
    {
      "cell_type": "code",
      "source": [
        "# IDENTIFY UNIQUE VALUES IN \"PASSENGER CLASS\" COLUMN"
      ],
      "metadata": {
        "id": "2b058O-AxT4S"
      },
      "execution_count": null,
      "outputs": []
    },
    {
      "cell_type": "code",
      "source": [
        "# RENAMING COLUMN\n",
        "dt.rename(columns = {'Sex':'Gender'}, inplace = True)\n",
        "dt"
      ],
      "metadata": {
        "id": "EJsWUDoQ7rxB"
      },
      "execution_count": null,
      "outputs": []
    },
    {
      "cell_type": "markdown",
      "source": [
        "**BIVARIATE ANALYSIS**"
      ],
      "metadata": {
        "id": "EQVPOWEdABmF"
      }
    },
    {
      "cell_type": "code",
      "source": [
        "# USE CATPLOT METHOD FOR BIVARIATE ANALYSIS"
      ],
      "metadata": {
        "id": "JAIncTl77wbF"
      },
      "execution_count": null,
      "outputs": []
    },
    {
      "cell_type": "code",
      "source": [
        "fig, ax1 = plt.subplots(figsize=(8,5))\n",
        "graph = sns.countplot(#USE THE NECESSARY PARAMETERS HERE)\n",
        "graph.set_xticklabels(graph.get_xticklabels())\n",
        "for p in graph.patches:\n",
        "    height = p.get_height()\n",
        "    graph.text(p.get_x()+p.get_width()/2, height + 20.8,height ,ha=\"left\")"
      ],
      "metadata": {
        "id": "tJl7eKDm9LYA"
      },
      "execution_count": null,
      "outputs": []
    },
    {
      "cell_type": "code",
      "source": [
        "# USE BOXPLOT METHOD TO ANALYZE AGE AND SURVIVED COLUMN"
      ],
      "metadata": {
        "id": "WqiwcT0S9W4T"
      },
      "execution_count": null,
      "outputs": []
    },
    {
      "cell_type": "markdown",
      "source": [
        "**MULTIVARIATE ANALYSIS**"
      ],
      "metadata": {
        "id": "_jQ_kR9V-954"
      }
    },
    {
      "cell_type": "code",
      "source": [
        "# USE BOXPLOT METHOD AND ANALYZE THREE COLUMNS(PCLASS,AGE,GENDER)"
      ],
      "metadata": {
        "id": "P7CnWj-49gFk"
      },
      "execution_count": null,
      "outputs": []
    },
    {
      "cell_type": "code",
      "source": [
        "# USE CATPLOT METHOD AND ANALYZE THREE COLUMNS(PCLASS,SURVIVED,GENDER)"
      ],
      "metadata": {
        "id": "_DBtS2EJ_YgO"
      },
      "execution_count": null,
      "outputs": []
    },
    {
      "cell_type": "code",
      "source": [
        "# IMPLEMENT HEATMAP AND PAIRPLOT FOR THE DATASET"
      ],
      "metadata": {
        "id": "72863pNc_jqs"
      },
      "execution_count": null,
      "outputs": []
    }
  ]
}